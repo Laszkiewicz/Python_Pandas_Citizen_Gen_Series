{
 "cells": [
  {
   "cell_type": "code",
   "execution_count": 15,
   "id": "ff821de0-528c-4cc8-b0b3-c71ec7aa5263",
   "metadata": {},
   "outputs": [
    {
     "name": "stdout",
     "output_type": "stream",
     "text": [
      "0    39071834906\n",
      "1    06281966156\n",
      "2    57123157913\n",
      "dtype: object\n"
     ]
    }
   ],
   "source": [
    "from faker import Faker\n",
    "from pandas import pandas\n",
    "import pandas as pd\n",
    "\n",
    "fake_data = Faker(\"pl_PL\")\n",
    "\n",
    "pesel = []\n",
    "def generate_unique_ssns(how_many):\n",
    "    for i in range(0, how_many):\n",
    "        pesel.append(fake_data.pesel())\n",
    "    \n",
    "\n",
    "generate_unique_ssns(3)\n",
    "\n",
    "ser = pd.Series(pesel)\n",
    "\n",
    "print(ser)"
   ]
  },
  {
   "cell_type": "code",
   "execution_count": null,
   "id": "3b983bd0-dccb-460e-9068-b1334a53b718",
   "metadata": {},
   "outputs": [],
   "source": []
  }
 ],
 "metadata": {
  "kernelspec": {
   "display_name": "Python 3 (ipykernel)",
   "language": "python",
   "name": "python3"
  },
  "language_info": {
   "codemirror_mode": {
    "name": "ipython",
    "version": 3
   },
   "file_extension": ".py",
   "mimetype": "text/x-python",
   "name": "python",
   "nbconvert_exporter": "python",
   "pygments_lexer": "ipython3",
   "version": "3.10.0"
  }
 },
 "nbformat": 4,
 "nbformat_minor": 5
}
